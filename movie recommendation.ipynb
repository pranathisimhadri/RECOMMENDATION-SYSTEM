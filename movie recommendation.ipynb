{
 "cells": [
  {
   "cell_type": "code",
   "execution_count": 1,
   "id": "8ccd2b1e",
   "metadata": {},
   "outputs": [],
   "source": [
    "import pandas as pd\n",
    "import numpy as np\n",
    "import torch\n",
    "import torch.nn as nn\n",
    "from torch.utils.data import Dataset, DataLoader\n",
    "from sklearn.model_selection import train_test_split\n"
   ]
  },
  {
   "cell_type": "code",
   "execution_count": 3,
   "id": "fae7b3b4",
   "metadata": {},
   "outputs": [
    {
     "name": "stdout",
     "output_type": "stream",
     "text": [
      "Using device: cuda\n"
     ]
    }
   ],
   "source": [
    "# Device config\n",
    "device = torch.device(\"cuda\" if torch.cuda.is_available() else \"cpu\")\n",
    "print(f\"Using device: {device}\")"
   ]
  },
  {
   "cell_type": "code",
   "execution_count": 58,
   "id": "79c071ab",
   "metadata": {},
   "outputs": [],
   "source": [
    "# Load data\n",
    "ratings = pd.read_csv(r\"D:\\\\New folder (2)\\\\pranthi\\\\code tech it\\\\rating.csv\")"
   ]
  },
  {
   "cell_type": "code",
   "execution_count": 59,
   "id": "c3f5944f",
   "metadata": {},
   "outputs": [],
   "source": [
    "# Factorize userId and movieId\n",
    "ratings['user_index'], _ = pd.factorize(ratings['userId'])\n",
    "ratings['movie_index'], _ = pd.factorize(ratings['movieId'])\n"
   ]
  },
  {
   "cell_type": "code",
   "execution_count": 60,
   "id": "88767b65",
   "metadata": {},
   "outputs": [],
   "source": [
    "num_users = ratings['user_index'].nunique()\n",
    "num_movies = ratings['movie_index'].nunique()\n"
   ]
  },
  {
   "cell_type": "code",
   "execution_count": 61,
   "id": "04e2f556",
   "metadata": {},
   "outputs": [],
   "source": [
    "# Train-test split\n",
    "train_data, test_data = train_test_split(ratings, test_size=0.2, random_state=42)"
   ]
  },
  {
   "cell_type": "code",
   "execution_count": 31,
   "id": "cdcf86ce",
   "metadata": {},
   "outputs": [],
   "source": [
    "# ✅ PyTorch Dataset\n",
    "class RatingsDataset(Dataset):\n",
    "    def __init__(self, df):\n",
    "        self.users = torch.tensor(df['user_index'].values, dtype=torch.long)\n",
    "        self.movies = torch.tensor(df['movie_index'].values, dtype=torch.long)\n",
    "        self.ratings_tensor = torch.tensor(df['rating'].values, dtype=torch.float32)\n",
    "\n",
    "    def __len__(self):\n",
    "        return len(self.ratings_tensor)\n",
    "\n",
    "    def __getitem__(self, idx):\n",
    "        return self.users[idx], self.movies[idx], self.ratings_tensor[idx]\n"
   ]
  },
  {
   "cell_type": "code",
   "execution_count": 32,
   "id": "e65fc517",
   "metadata": {},
   "outputs": [],
   "source": [
    "train_dataset = RatingsDataset(train_data)\n",
    "train_loader = DataLoader(train_dataset, batch_size=8192, shuffle=True, num_workers=0)\n"
   ]
  },
  {
   "cell_type": "code",
   "execution_count": 33,
   "id": "e71b2d94",
   "metadata": {},
   "outputs": [],
   "source": [
    "# ✅ Matrix Factorization Model\n",
    "class MatrixFactorization(nn.Module):\n",
    "    def __init__(self, num_users, num_movies, latent_dim):\n",
    "        super(MatrixFactorization, self).__init__()\n",
    "        self.user_embedding = nn.Embedding(num_users, latent_dim)\n",
    "        self.movie_embedding = nn.Embedding(num_movies, latent_dim)\n",
    "\n",
    "    def forward(self, user_ids, movie_ids):\n",
    "        user_vecs = self.user_embedding(user_ids)\n",
    "        movie_vecs = self.movie_embedding(movie_ids)\n",
    "        dot = (user_vecs * movie_vecs).sum(1)\n",
    "        return dot"
   ]
  },
  {
   "cell_type": "code",
   "execution_count": 34,
   "id": "8aba390d",
   "metadata": {},
   "outputs": [],
   "source": [
    "# ✅ Instantiate model\n",
    "latent_dim = 128\n",
    "model = MatrixFactorization(num_users, num_movies, latent_dim).to(device)\n",
    "criterion = nn.MSELoss()\n",
    "optimizer = torch.optim.Adam(model.parameters(), lr=0.001)\n"
   ]
  },
  {
   "cell_type": "code",
   "execution_count": 35,
   "id": "c4e0e5a7",
   "metadata": {},
   "outputs": [
    {
     "name": "stdout",
     "output_type": "stream",
     "text": [
      "📘 Epoch 1/10 - Loss: 105.1406\n",
      "   GPU Memory Allocated: 324.7001953125 MB\n",
      "📘 Epoch 2/10 - Loss: 55.6604\n",
      "   GPU Memory Allocated: 324.7001953125 MB\n",
      "📘 Epoch 3/10 - Loss: 33.4663\n",
      "   GPU Memory Allocated: 324.7001953125 MB\n",
      "📘 Epoch 4/10 - Loss: 20.8208\n",
      "   GPU Memory Allocated: 324.7001953125 MB\n",
      "📘 Epoch 5/10 - Loss: 10.1552\n",
      "   GPU Memory Allocated: 324.7001953125 MB\n",
      "📘 Epoch 6/10 - Loss: 4.9983\n",
      "   GPU Memory Allocated: 324.7001953125 MB\n",
      "📘 Epoch 7/10 - Loss: 2.9535\n",
      "   GPU Memory Allocated: 324.7001953125 MB\n",
      "📘 Epoch 8/10 - Loss: 1.9628\n",
      "   GPU Memory Allocated: 324.7001953125 MB\n",
      "📘 Epoch 9/10 - Loss: 1.4338\n",
      "   GPU Memory Allocated: 324.7001953125 MB\n",
      "📘 Epoch 10/10 - Loss: 1.1368\n",
      "   GPU Memory Allocated: 324.7001953125 MB\n"
     ]
    }
   ],
   "source": [
    "# ✅ Training loop\n",
    "epochs = 10\n",
    "for epoch in range(epochs):\n",
    "    model.train()\n",
    "    epoch_loss = 0\n",
    "    for user_batch, movie_batch, rating_batch in train_loader:\n",
    "        user_batch = user_batch.to(device)\n",
    "        movie_batch = movie_batch.to(device)\n",
    "        rating_batch = rating_batch.to(device)\n",
    "\n",
    "        optimizer.zero_grad()\n",
    "        outputs = model(user_batch, movie_batch)\n",
    "        loss = criterion(outputs, rating_batch)\n",
    "        loss.backward()\n",
    "        optimizer.step()\n",
    "        epoch_loss += loss.item()\n",
    "    \n",
    "    print(f\"📘 Epoch {epoch+1}/{epochs} - Loss: {epoch_loss / len(train_loader):.4f}\")\n",
    "\n",
    "    if torch.cuda.is_available():\n",
    "        print(\"   GPU Memory Allocated:\", torch.cuda.memory_allocated() / 1024**2, \"MB\")"
   ]
  },
  {
   "cell_type": "code",
   "execution_count": 36,
   "id": "f764628b",
   "metadata": {},
   "outputs": [
    {
     "name": "stdout",
     "output_type": "stream",
     "text": [
      "✅ Model saved to 'matrix_factorization_model.pth'\n"
     ]
    }
   ],
   "source": [
    "# ✅ Save model\n",
    "torch.save(model.state_dict(), \"matrix_factorization_model.pth\")\n",
    "print(\"✅ Model saved to 'matrix_factorization_model.pth'\")\n"
   ]
  },
  {
   "cell_type": "code",
   "execution_count": 37,
   "id": "d38409f4",
   "metadata": {},
   "outputs": [
    {
     "name": "stdout",
     "output_type": "stream",
     "text": [
      "✅ Model reloaded successfully\n"
     ]
    },
    {
     "name": "stderr",
     "output_type": "stream",
     "text": [
      "C:\\Users\\susha\\AppData\\Local\\Temp\\ipykernel_6888\\576904941.py:3: FutureWarning: You are using `torch.load` with `weights_only=False` (the current default value), which uses the default pickle module implicitly. It is possible to construct malicious pickle data which will execute arbitrary code during unpickling (See https://github.com/pytorch/pytorch/blob/main/SECURITY.md#untrusted-models for more details). In a future release, the default value for `weights_only` will be flipped to `True`. This limits the functions that could be executed during unpickling. Arbitrary objects will no longer be allowed to be loaded via this mode unless they are explicitly allowlisted by the user via `torch.serialization.add_safe_globals`. We recommend you start setting `weights_only=True` for any use case where you don't have full control of the loaded file. Please open an issue on GitHub for any issues related to this experimental feature.\n",
      "  model_loaded.load_state_dict(torch.load(\"matrix_factorization_model.pth\"))\n"
     ]
    }
   ],
   "source": [
    "# ✅ Load model (example)\n",
    "model_loaded = MatrixFactorization(num_users, num_movies, latent_dim).to(device)\n",
    "model_loaded.load_state_dict(torch.load(\"matrix_factorization_model.pth\"))\n",
    "model_loaded.eval()\n",
    "print(\"✅ Model reloaded successfully\")\n"
   ]
  },
  {
   "cell_type": "code",
   "execution_count": 42,
   "id": "e7ac2b61",
   "metadata": {},
   "outputs": [],
   "source": [
    "import matplotlib.pyplot as plt\n",
    "from sklearn.metrics import confusion_matrix\n",
    "import seaborn as sns\n",
    "import torch\n"
   ]
  },
  {
   "cell_type": "code",
   "execution_count": 43,
   "id": "ea5f9460",
   "metadata": {},
   "outputs": [],
   "source": [
    "# Function to predict ratings and classify as binary (liked/disliked)\n",
    "def predict_and_classify(user_batch, movie_batch, rating_batch, threshold=3.0):\n",
    "    user_batch = user_batch.to(device)\n",
    "    movie_batch = movie_batch.to(device)\n",
    "    rating_batch = rating_batch.to(device)\n",
    "\n",
    "    with torch.no_grad():\n",
    "        predicted_ratings = model_loaded(user_batch, movie_batch)\n",
    "\n",
    "    # Classify the ratings as 1 (liked) or 0 (disliked)\n",
    "    predicted_labels = (predicted_ratings >= threshold).float()\n",
    "    true_labels = (rating_batch >= threshold).float()\n",
    "\n",
    "    return predicted_labels, true_labels"
   ]
  },
  {
   "cell_type": "code",
   "execution_count": 44,
   "id": "0752ff9d",
   "metadata": {},
   "outputs": [],
   "source": [
    "# Generate confusion matrix for the test data\n",
    "def generate_confusion_matrix(test_loader):\n",
    "    all_predicted_labels = []\n",
    "    all_true_labels = []\n",
    "\n",
    "    model_loaded.eval()  # Set model to evaluation mode\n",
    "\n",
    "    for user_batch, movie_batch, rating_batch in test_loader:\n",
    "        predicted_labels, true_labels = predict_and_classify(user_batch, movie_batch, rating_batch)\n",
    "        all_predicted_labels.append(predicted_labels.cpu().numpy())\n",
    "        all_true_labels.append(true_labels.cpu().numpy())\n",
    "\n",
    "    # Flatten lists and calculate confusion matrix\n",
    "    all_predicted_labels = np.concatenate(all_predicted_labels)\n",
    "    all_true_labels = np.concatenate(all_true_labels)\n",
    "\n",
    "    cm = confusion_matrix(all_true_labels, all_predicted_labels)\n",
    "\n",
    "    return cm"
   ]
  },
  {
   "cell_type": "code",
   "execution_count": 45,
   "id": "91175170",
   "metadata": {},
   "outputs": [],
   "source": [
    "# Function to plot confusion matrix\n",
    "def plot_confusion_matrix(cm):\n",
    "    plt.figure(figsize=(6, 6))\n",
    "    sns.heatmap(cm, annot=True, fmt=\"d\", cmap=\"Blues\", xticklabels=[\"Disliked\", \"Liked\"], yticklabels=[\"Disliked\", \"Liked\"])\n",
    "    plt.xlabel('Predicted')\n",
    "    plt.ylabel('Actual')\n",
    "    plt.title('Confusion Matrix')\n",
    "    plt.show()"
   ]
  },
  {
   "cell_type": "code",
   "execution_count": 46,
   "id": "dee8055b",
   "metadata": {},
   "outputs": [],
   "source": [
    "\n",
    "\n",
    "\n",
    "test_dataset = RatingsDataset(test_data)  # Create dataset from test data\n",
    "test_loader = DataLoader(test_dataset, batch_size=8192, shuffle=False, num_workers=0)\n"
   ]
  },
  {
   "cell_type": "code",
   "execution_count": 47,
   "id": "4a6d994e",
   "metadata": {},
   "outputs": [
    {
     "data": {
      "image/png": "[encoded data removed]",
      "text/plain": [
       "<Figure size 600x600 with 2 Axes>"
      ]
     },
     "metadata": {},
     "output_type": "display_data"
    }
   ],
   "source": [
    "# Calculate and plot confusion matrix\n",
    "cm = generate_confusion_matrix(test_loader)\n",
    "plot_confusion_matrix(cm)"
   ]
  },
  {
   "cell_type": "code",
   "execution_count": 63,
   "id": "69b44e6d",
   "metadata": {},
   "outputs": [],
   "source": [
    "# Function to recommend N movies for a specific user\n",
    "def recommend_movies(user_id, top_n=10):\n",
    "    # Ensure user_id is in the training set\n",
    "    if user_id not in user_id_lookup.values:\n",
    "        return \"User not in training set.\"\n",
    "    \n",
    "    user_idx = torch.tensor([user_id_lookup.get_loc(user_id)], dtype=torch.long).to(device)\n",
    "    \n",
    "    # Generate predicted ratings for all movies for this user\n",
    "    movie_ids_tensor = torch.arange(num_movies).to(device)\n",
    "    \n",
    "    with torch.no_grad():\n",
    "        predicted_ratings = model_loaded(user_idx.repeat(num_movies), movie_ids_tensor)\n",
    "    \n",
    "    # Convert predicted ratings to a numpy array\n",
    "    predicted_ratings = predicted_ratings.cpu().numpy()\n",
    "    \n",
    "    # Get the top N recommended movies based on predicted ratings\n",
    "    top_movie_indices = predicted_ratings.argsort()[-top_n:][::-1]\n",
    "    \n",
    "    # Map the movie indices back to the movie IDs using movie_id_lookup\n",
    "    recommended_movie_ids = [movie_id_lookup[i] for i in top_movie_indices]\n",
    "    \n",
    "    return recommended_movie_ids\n"
   ]
  },
  {
   "cell_type": "code",
   "execution_count": 51,
   "id": "c11b8c2f",
   "metadata": {},
   "outputs": [
    {
     "data": {
      "text/plain": [
       "MatrixFactorization(\n",
       "  (user_embedding): Embedding(138493, 128)\n",
       "  (movie_embedding): Embedding(26744, 128)\n",
       ")"
      ]
     },
     "execution_count": 51,
     "metadata": {},
     "output_type": "execute_result"
    }
   ],
   "source": [
    "# Ensure the model is in evaluation mode\n",
    "model_loaded.eval()\n",
    "\n",
    "\n"
   ]
  },
  {
   "cell_type": "code",
   "execution_count": 64,
   "id": "947f21b0",
   "metadata": {},
   "outputs": [],
   "source": [
    "def recommend_movies(user_id, top_n=10):\n",
    "    # Ensure user_id is in the training set\n",
    "    if user_id not in user_id_lookup.values:\n",
    "        return \"User not in training set.\"\n",
    "    \n",
    "    user_idx = torch.tensor([user_id_lookup.get_loc(user_id)], dtype=torch.long).to(device)\n",
    "    \n",
    "    # Generate predicted ratings for all movies for this user\n",
    "    movie_ids_tensor = torch.arange(num_movies).to(device)\n",
    "    \n",
    "    with torch.no_grad():\n",
    "        predicted_ratings = model_loaded(user_idx.repeat(num_movies), movie_ids_tensor)\n",
    "    \n",
    "    # Convert predicted ratings to a numpy array\n",
    "    predicted_ratings = predicted_ratings.cpu().numpy()\n",
    "    \n",
    "    # Get the top N recommended movies based on predicted ratings\n",
    "    top_movie_indices = predicted_ratings.argsort()[-top_n:][::-1]\n",
    "    \n",
    "    # Map the movie indices back to the movie IDs using movie_id_lookup\n",
    "    recommended_movie_ids = [movie_id_lookup[i] for i in top_movie_indices]\n",
    "    \n",
    "    return recommended_movie_ids"
   ]
  },
  {
   "cell_type": "code",
   "execution_count": 67,
   "id": "5a293310",
   "metadata": {},
   "outputs": [],
   "source": [
    "ratings['user_index'], user_id_lookup = pd.factorize(ratings['userId'])\n",
    "ratings['movie_index'], movie_id_lookup = pd.factorize(ratings['movieId'])\n"
   ]
  },
  {
   "cell_type": "code",
   "execution_count": 69,
   "id": "e58c2752",
   "metadata": {},
   "outputs": [],
   "source": [
    "user_id = 1  # or some valid ID from your dataset\n",
    "user_idx = torch.tensor([user_id_lookup.get_loc(user_id)], dtype=torch.long).to(device)\n"
   ]
  },
  {
   "cell_type": "code",
   "execution_count": 70,
   "id": "ed14b05b",
   "metadata": {},
   "outputs": [
    {
     "name": "stdout",
     "output_type": "stream",
     "text": [
      "[np.int64(113039), np.int64(64923), np.int64(99636), np.int64(98613), np.int64(87917), np.int64(118242), np.int64(90017), np.int64(27539), np.int64(26741), np.int64(82311)]\n"
     ]
    }
   ],
   "source": [
    "recommended_movies = recommend_movies(1, top_n=10)\n",
    "print(recommended_movies)\n"
   ]
  },
  {
   "cell_type": "code",
   "execution_count": null,
   "id": "b30b5bf8",
   "metadata": {},
   "outputs": [],
   "source": []
  },
  {
   "cell_type": "code",
   "execution_count": null,
   "id": "6468d464",
   "metadata": {},
   "outputs": [],
   "source": []
  }
 ],
 "metadata": {
  "kernelspec": {
   "display_name": "Python 3",
   "language": "python",
   "name": "python3"
  },
  "language_info": {
   "codemirror_mode": {
    "name": "ipython",
    "version": 3
   },
   "file_extension": ".py",
   "mimetype": "text/x-python",
   "name": "python",
   "nbconvert_exporter": "python",
   "pygments_lexer": "ipython3",
   "version": "3.10.11"
  }
 },
 "nbformat": 4,
 "nbformat_minor": 5
}
